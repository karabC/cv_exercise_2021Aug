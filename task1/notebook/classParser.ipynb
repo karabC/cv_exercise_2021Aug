{
    "cells": [
        {
            "cell_type": "markdown",
            "source": [
                "# Parser for Open Image's Class Hierarchy\r\n",
                "Assumption: Only focus on the read performance. Write performance and memory/storage is not a big concern.\r\n",
                "- Hierarchy file is small\r\n",
                "- Access pattern mostly likely supporting above operation\r\n",
                "- Like write-once, read-many during the whole training and inferencing lifecycle\r\n",
                "\r\n",
                "There are two proposed solutions for high read performance under python.\r\n",
                "\r\n",
                "**First Solution:**\r\n",
                "Parse the JSON into bi-directional linked list. And compute the required result on-the-fire.\r\n",
                "\r\n",
                "PRO: lower memory.\r\n",
                "\r\n",
                "CONS: a bit slower the second one\r\n",
                "\r\n",
                "**Second Solution:**\r\n",
                "Parse the JSON into bi-directional linked list. And built mapping caching layer for the required result directly.\r\n",
                "\r\n",
                "Higher: Super fast in read performance\r\n",
                "\r\n",
                "CONS: Taker more time in the parsing step (Write) and consuming more memory\r\n",
                "\r\n",
                "*Remark:*\r\n",
                "Code written in lower-level language (e.g. C, rust) will be certainly more efficient if that is mission critical function."
            ],
            "metadata": {}
        },
        {
            "cell_type": "markdown",
            "source": [
                "# Initial data mapping loading"
            ],
            "metadata": {}
        },
        {
            "cell_type": "code",
            "execution_count": 156,
            "source": [
                "import json\r\n",
                "import csv\r\n",
                "import os\r\n",
                "import pandas as pd\r\n",
                "\r\n",
                "data_path = '../data'\r\n",
                "class_description_file = os.path.join(data_path, 'oidv6-class-descriptions.csv')\r\n",
                "label_hierarchy = os.path.join(data_path, 'bbox_labels_600_hierarchy.json')\r\n",
                "id_to_name_df = pd.read_csv(class_description_file, index_col='LabelName')\r\n",
                "name_to_id_df = pd.read_csv(class_description_file, index_col='DisplayName')\r\n",
                "\r\n",
                "def id_to_name(LabelName: str):\r\n",
                "    try:\r\n",
                "        displayName = id_to_name_df.loc[LabelName]['DisplayName']\r\n",
                "    except KeyError:\r\n",
                "        print(f\"ERROR: {LabelName}'s Display name not found'.\")\r\n",
                "        displayName = \"Undefined\"\r\n",
                "    return displayName\r\n",
                "\r\n",
                "def name_to_id(DisplayName: str):\r\n",
                "    try:\r\n",
                "        labelName = name_to_id_df.loc[DisplayName]['LabelName']\r\n",
                "    except KeyError:\r\n",
                "        print(f\"ERROR: {DisplayName}'s Label not found'.\")\r\n",
                "        labelName = \"/x/xxxxx\"\r\n",
                "    return labelName"
            ],
            "outputs": [],
            "metadata": {}
        },
        {
            "cell_type": "markdown",
            "source": [
                "## Test of the Name & id mapping"
            ],
            "metadata": {}
        },
        {
            "cell_type": "code",
            "execution_count": 7,
            "source": [
                "# Test of getting namd to id\r\n",
                "name_to_id('Dog')"
            ],
            "outputs": [
                {
                    "output_type": "execute_result",
                    "data": {
                        "text/plain": [
                            "'/m/0bt9lr'"
                        ]
                    },
                    "metadata": {},
                    "execution_count": 7
                }
            ],
            "metadata": {}
        },
        {
            "cell_type": "code",
            "execution_count": 154,
            "source": [
                "# Test of getting id to name\r\n",
                "id_to_name('/m/02vwcm')\r\n"
            ],
            "outputs": [
                {
                    "output_type": "execute_result",
                    "data": {
                        "text/plain": [
                            "'Whisk'"
                        ]
                    },
                    "metadata": {},
                    "execution_count": 154
                }
            ],
            "metadata": {}
        },
        {
            "cell_type": "code",
            "execution_count": 157,
            "source": [
                "# Name of the main node\r\n",
                "id_to_name('/m/0bl9f')"
            ],
            "outputs": [
                {
                    "output_type": "stream",
                    "name": "stdout",
                    "text": [
                        "ERROR: /m/0bl9f's Display name not found'.\n"
                    ]
                },
                {
                    "output_type": "execute_result",
                    "data": {
                        "text/plain": [
                            "'Undefined'"
                        ]
                    },
                    "metadata": {},
                    "execution_count": 157
                }
            ],
            "metadata": {}
        },
        {
            "cell_type": "markdown",
            "source": [
                "# The double-referencing Link tree stucture"
            ],
            "metadata": {}
        },
        {
            "cell_type": "code",
            "execution_count": 158,
            "source": [
                "class HierarchyNode:\r\n",
                "    \r\n",
                "    id_to_node = {}\r\n",
                "    name_to_node = {}\r\n",
                "\r\n",
                "    @classmethod \r\n",
                "    def update_id_map(cls, id, node):\r\n",
                "        cls.id_to_node[id] = node\r\n",
                "\r\n",
                "    @classmethod \r\n",
                "    def update_name_map(cls, name, node):\r\n",
                "        cls.name_to_node[name] = node\r\n",
                "\r\n",
                "    @classmethod \r\n",
                "    def get_node_by_id(cls, id):\r\n",
                "        return cls.id_to_node[id]\r\n",
                "\r\n",
                "    @classmethod \r\n",
                "    def get_node_by_name(cls, name):\r\n",
                "        return cls.name_to_node[name]\r\n",
                "\r\n",
                "    @classmethod\r\n",
                "    def get_siblings_name_by_name(cls, name):\r\n",
                "        node = cls.get_node_by_name(name)\r\n",
                "        sibling_list = node.parent.get_child()\r\n",
                "        sibling_list.remove(node)\r\n",
                "        return [x.name for x in sibling_list]  \r\n",
                "\r\n",
                "    @classmethod\r\n",
                "    def get_parent_name_by_id(cls, name):\r\n",
                "        node = cls.get_node_by_id(name)\r\n",
                "        if node.parent is not None:\r\n",
                "            return node.parent.name\r\n",
                "        else:\r\n",
                "            return None\r\n",
                "\r\n",
                "    @classmethod\r\n",
                "    def get_parent_name_by_name(cls, name):\r\n",
                "        node = cls.get_node_by_name(name)\r\n",
                "        if node.parent is not None:\r\n",
                "            return node.parent.name\r\n",
                "        else:\r\n",
                "            return None\r\n",
                "\r\n",
                "    @classmethod\r\n",
                "    def get_siblings_name_by_name(cls, name):\r\n",
                "        node = cls.get_node_by_name(name)\r\n",
                "        sibling_list = node.parent.get_child()\r\n",
                "        sibling_list.remove(node)\r\n",
                "        return [x.name for x in sibling_list]  \r\n",
                "\r\n",
                "    @classmethod\r\n",
                "    def get_siblings_name_by_id(cls, id):\r\n",
                "        node = cls.get_node_by_id(id)\r\n",
                "        sibling_list = node.parent.get_child()\r\n",
                "        sibling_list.remove(node)\r\n",
                "        return [x.name for x in sibling_list]  \r\n",
                "\r\n",
                "    @classmethod\r\n",
                "    def get_ancestor_name_by_id(cls, id):\r\n",
                "        node = cls.get_node_by_id(id)\r\n",
                "        return [x.name for x in node.get_ancestor()]  \r\n",
                "\r\n",
                "    @classmethod\r\n",
                "    def get_ancestor_name_by_name(cls, name):\r\n",
                "        node = cls.get_node_by_name(name)\r\n",
                "        return [x.name for x in node.get_ancestor()]  \r\n",
                "\r\n",
                "    @classmethod\r\n",
                "    def get_ancestor_name_by_name(cls, name):\r\n",
                "        node = cls.get_node_by_name(name)\r\n",
                "        return [x.name for x in node.get_ancestor()]  \r\n",
                "\r\n",
                "    @classmethod\r\n",
                "    def is_same_ancestor(cls, class_name_1, class_name_2):\r\n",
                "        node1 = cls.get_node_by_name(class_name_1)\r\n",
                "        node2 = cls.get_node_by_name(class_name_2)\r\n",
                "        return node1.get_root().id == node2.get_root().id\r\n",
                "\r\n",
                "    def __init__(self, id, parent=None):\r\n",
                "        self.id = id\r\n",
                "        self.parent = parent\r\n",
                "        self.subcategory = []\r\n",
                "        self.part = []\r\n",
                "        self.update_id_map(id, self)\r\n",
                "        self.name = id_to_name(id)\r\n",
                "        self.update_name_map(self.name, self)\r\n",
                "\r\n",
                "    def add_subcategory(self, child_node):\r\n",
                "        self.subcategory.append(child_node)\r\n",
                "\r\n",
                "    def add_part(self, child_node):\r\n",
                "        self.part.append(child_node)\r\n",
                "    \r\n",
                "    def get_parent(self):\r\n",
                "        return self.parent\r\n",
                "    \r\n",
                "    def get_ancestor(self):\r\n",
                "        if self.parent is None:\r\n",
                "            return []\r\n",
                "        else:\r\n",
                "            return  self.parent.get_ancestor() + [self.parent]\r\n",
                "\r\n",
                "    def get_child(self):\r\n",
                "        return self.part + self.subcategory\r\n",
                " \r\n",
                "    def get_root(self):\r\n",
                "        if self.parent is None:\r\n",
                "            return self\r\n",
                "        else:\r\n",
                "            return self.parent.get_root()\r\n",
                "\r\n"
            ],
            "outputs": [],
            "metadata": {}
        },
        {
            "cell_type": "markdown",
            "source": [
                "# Parser"
            ],
            "metadata": {}
        },
        {
            "cell_type": "code",
            "execution_count": 159,
            "source": [
                "def node_parser(json_object, parent=None):\r\n",
                "    if 'LabelName' in json_object:\r\n",
                "        node = HierarchyNode(json_object['LabelName'], parent)\r\n",
                "        if 'Subcategory' in json_object and 'LabelName' in json_object:\r\n",
                "            for subcategory in json_object['Subcategory']:\r\n",
                "                child = node_parser(subcategory, node)\r\n",
                "                node.add_subcategory(child)\r\n",
                "        if 'Part' in json_object and 'LabelName' in json_object:\r\n",
                "            for part in json_object['Part']:\r\n",
                "                child = node_parser(part, node)\r\n",
                "                node.add_part(child)\r\n",
                "        return node\r\n",
                "    else:\r\n",
                "        print(json_object)\r\n",
                "        return None"
            ],
            "outputs": [],
            "metadata": {}
        },
        {
            "cell_type": "markdown",
            "source": [
                "# Execute the parser\r\n",
                "## Exclude the highest level node as that is the \"entity\""
            ],
            "metadata": {}
        },
        {
            "cell_type": "code",
            "execution_count": 160,
            "source": [
                "with open(label_hierarchy) as json_file:  \r\n",
                "    json_object = json.load(json_file)\r\n",
                "    if 'Subcategory' in json_object and 'LabelName' in json_object:\r\n",
                "        for subcategory in json_object['Subcategory']:\r\n",
                "            child = node_parser(subcategory, None)\r\n"
            ],
            "outputs": [],
            "metadata": {}
        },
        {
            "cell_type": "markdown",
            "source": [
                "# Sample Call for the Hierarchy Node Class Method"
            ],
            "metadata": {}
        },
        {
            "cell_type": "code",
            "execution_count": 162,
            "source": [
                "# print(HierarchyNode.name_to_node.keys())\r\n",
                "\r\n",
                "# Find all siblings class of a class name\r\n",
                "print(HierarchyNode.get_siblings_name_by_name('Can opener'))\r\n",
                "print(HierarchyNode.get_siblings_name_by_id('/m/027rl48'))\r\n",
                "\r\n",
                "\r\n",
                "# Find the parent class of a class name\r\n",
                "print(HierarchyNode.get_parent_name_by_name('Can opener'))\r\n",
                "print(HierarchyNode.get_parent_name_by_id('/m/027rl48'))\r\n",
                "\r\n",
                "# Find all ancestor classes of a class name\r\n",
                "print(HierarchyNode.get_ancestor_name_by_name('Can opener'))\r\n",
                "print(HierarchyNode.get_ancestor_name_by_id('/m/027rl48'))\r\n",
                "\r\n",
                "# Find if both class 1 and class 2 belong to the same ancestor class\r\n",
                "## This fucntion assuming the requirement is that two classes are same if the root node is the same. i.e. Tool and Kitchen utensil are same.\r\n",
                "## If this assumption is not true, it can be just modified\r\n",
                "print(HierarchyNode.is_same_ancestor('Chopsticks', 'Spatula'))\r\n",
                "print(HierarchyNode.is_same_ancestor('Chopsticks', 'Toy'))"
            ],
            "outputs": [
                {
                    "output_type": "stream",
                    "name": "stdout",
                    "text": [
                        "['Chopsticks', 'Ladle', 'Spatula', 'Cutting board', 'Whisk', 'Drinking straw', 'Knife', 'Bottle opener', 'Measuring cup', 'Pizza cutter', 'Spoon', 'Fork']\n",
                        "['Chopsticks', 'Spatula', 'Can opener', 'Cutting board', 'Whisk', 'Drinking straw', 'Knife', 'Bottle opener', 'Measuring cup', 'Pizza cutter', 'Spoon', 'Fork']\n",
                        "Kitchen utensil\n",
                        "Kitchen utensil\n",
                        "['Tool', 'Kitchen utensil']\n",
                        "['Tool', 'Kitchen utensil']\n",
                        "True\n",
                        "False\n"
                    ]
                }
            ],
            "metadata": {}
        },
        {
            "cell_type": "code",
            "execution_count": null,
            "source": [],
            "outputs": [],
            "metadata": {}
        }
    ],
    "metadata": {
        "orig_nbformat": 4,
        "language_info": {
            "name": "python",
            "version": "3.8.11",
            "mimetype": "text/x-python",
            "codemirror_mode": {
                "name": "ipython",
                "version": 3
            },
            "pygments_lexer": "ipython3",
            "nbconvert_exporter": "python",
            "file_extension": ".py"
        },
        "kernelspec": {
            "name": "python3",
            "display_name": "Python 3.8.11 64-bit ('viact': conda)"
        },
        "interpreter": {
            "hash": "a37e745ae762c49776892908c17702cd18bc348a726a08d879e09cbd47db414e"
        }
    },
    "nbformat": 4,
    "nbformat_minor": 2
}