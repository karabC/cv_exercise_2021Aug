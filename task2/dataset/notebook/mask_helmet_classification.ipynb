{
    "cells": [
        {
            "cell_type": "code",
            "execution_count": 1,
            "source": [
                "import os\r\n",
                "import cv2\r\n",
                "import argparse\r\n",
                "import shutil\r\n",
                "import numpy as np\r\n",
                "from lxml import etree\r\n",
                "from tqdm import tqdm"
            ],
            "outputs": [],
            "metadata": {}
        },
        {
            "cell_type": "code",
            "execution_count": 2,
            "source": [
                "def dir_create(path):\r\n",
                "    if (os.path.exists(path)) and (os.listdir(path) != []):\r\n",
                "        shutil.rmtree(path)\r\n",
                "        os.makedirs(path)\r\n",
                "    if not os.path.exists(path):\r\n",
                "        os.makedirs(path)"
            ],
            "outputs": [],
            "metadata": {}
        },
        {
            "cell_type": "code",
            "execution_count": 23,
            "source": [
                "def parse_args():\r\n",
                "    parser = argparse.ArgumentParser(\r\n",
                "        fromfile_prefix_chars='@',\r\n",
                "        description='Convert CVAT XML annotations to contours'\r\n",
                "    )\r\n",
                "    parser.add_argument(\r\n",
                "            '--image-dir', metavar='DIRECTORY', default='..\\dataset\\images',\r\n",
                "            help='directory with input images'\r\n",
                "        )\r\n",
                "    parser.add_argument(\r\n",
                "            '--cvat-xml', metavar='FILE',default='..\\dataset\\annotaations.xml',\r\n",
                "            help='input file with CVAT annotation in xml format'\r\n",
                "        )\r\n",
                "    parser.add_argument(\r\n",
                "            '--output-dir', metavar='DIRECTORY', default='..\\dataset\\ouput',\r\n",
                "            help='directory for output masks'\r\n",
                "        )\r\n",
                "    parser.add_argument(\r\n",
                "            '--scale-factor', type=float, default=1.0,\r\n",
                "            help='choose scale factor for images'\r\n",
                "        )\r\n",
                "    return parser.parse_args()"
            ],
            "outputs": [],
            "metadata": {}
        },
        {
            "cell_type": "code",
            "execution_count": 21,
            "source": [
                "def parse_anno_file(cvat_xml, image_name='0.jpg'):\r\n",
                "    root = etree.parse(cvat_xml).getroot()\r\n",
                "    anno = []\r\n",
                "    image_name_attr = \".//image/[@name='{}']\".format(image_name)\r\n",
                "    for image_tag in root.iterfind(image_name_attr):\r\n",
                "        image = {}\r\n",
                "        for key, value in image_tag.items():\r\n",
                "            image[key] = value\r\n",
                "        image['shapes'] = []\r\n",
                "        for poly_tag in image_tag.iter('polygon'):\r\n",
                "            polygon = {'type': 'polygon'}\r\n",
                "            for key, value in poly_tag.items():\r\n",
                "                polygon[key] = value\r\n",
                "            image['shapes'].append(polygon)\r\n",
                "        for box_tag in image_tag.iter('box'):\r\n",
                "            box = {'type': 'box'}\r\n",
                "            for key, value in box_tag.items():\r\n",
                "                box[key] = value\r\n",
                "            box['points'] = \"{0},{1};{2},{1};{2},{3};{0},{3}\".format(\r\n",
                "                box['xtl'], box['ytl'], box['xbr'], box['ybr'])\r\n",
                "            image['shapes'].append(box)\r\n",
                "        image['shapes'].sort(key=lambda x: int(x.get('z_order', 0)))\r\n",
                "        anno.append(image)\r\n",
                "    return anno"
            ],
            "outputs": [],
            "metadata": {}
        },
        {
            "cell_type": "code",
            "execution_count": 10,
            "source": [
                "def create_mask_file(width, height, bitness, background, shapes, scale_factor):\r\n",
                "    mask = np.full((height, width, bitness // 8), background, dtype=np.uint8)\r\n",
                "    for shape in shapes:\r\n",
                "        points = [tuple(map(float, p.split(','))) for p in shape['points'].split(';')]\r\n",
                "        points = np.array([(int(p[0]), int(p[1])) for p in points])\r\n",
                "        points = points*scale_factor\r\n",
                "        points = points.astype(int)\r\n",
                "        mask = cv2.drawContours(mask, [points], -1, color=(255, 255, 255), thickness=5)\r\n",
                "        mask = cv2.fillPoly(mask, [points], color=(0, 0, 255))\r\n",
                "    return mask"
            ],
            "outputs": [],
            "metadata": {}
        },
        {
            "cell_type": "code",
            "execution_count": 22,
            "source": [
                "def main():\r\n",
                "    args = parse_args()\r\n",
                "    # args = argparse.ArgumentParser.parse_args(['--image-dir', '..\\dateset\\images', '--cvat-xml', '..\\dateset\\annotations.xml', '--output-dir', '..\\dataset\\output'])\r\n",
                "    dir_create(args.output_dir)\r\n",
                "    img_list = [f for f in os.listdir(args.image_dir) if os.path.isfile(os.path.join(args.image_dir, f))]\r\n",
                "    mask_bitness = 24\r\n",
                "    for img in tqdm(img_list, desc='Writing contours:'):\r\n",
                "        img_path = os.path.join(args.image_dir, img)\r\n",
                "        anno = parse_anno_file(args.cvat_xml, img)\r\n",
                "        background = []\r\n",
                "        is_first_image = True\r\n",
                "        for image in anno:\r\n",
                "            if is_first_image:\r\n",
                "                current_image = cv2.imread(img_path)\r\n",
                "                height, width, _ = current_image.shape\r\n",
                "                background = np.zeros((height, width, 3), np.uint8)\r\n",
                "                is_first_image = False\r\n",
                "            output_path = os.path.join(args.output_dir, img.split('.')[0] + '.png')\r\n",
                "            background = create_mask_file(width,\r\n",
                "                                          height,\r\n",
                "                                          mask_bitness,\r\n",
                "                                          background,\r\n",
                "                                          image['shapes'],\r\n",
                "                                          args.scale_factor)\r\n",
                "        cv2.imwrite(output_path, background)"
            ],
            "outputs": [],
            "metadata": {}
        },
        {
            "cell_type": "code",
            "execution_count": 24,
            "source": [
                "main()"
            ],
            "outputs": [
                {
                    "output_type": "stream",
                    "name": "stderr",
                    "text": [
                        "usage: ipykernel_launcher.py [-h] [--image-dir DIRECTORY] [--cvat-xml FILE]\n",
                        "                             [--output-dir DIRECTORY]\n",
                        "                             [--scale-factor SCALE_FACTOR]\n",
                        "ipykernel_launcher.py: error: unrecognized arguments: --ip=127.0.0.1 --stdin=9008 --control=9006 --hb=9005 --Session.signature_scheme=\"hmac-sha256\" --Session.key=b\"fe7a2121-e8f9-4df3-b709-6db87497d35b\" --shell=9007 --transport=\"tcp\" --iopub=9009 --f=C:\\Users\\User\\AppData\\Local\\Temp\\tmp-10168VOSQU2eZAgFS.json\n"
                    ]
                },
                {
                    "output_type": "error",
                    "ename": "SystemExit",
                    "evalue": "2",
                    "traceback": [
                        "An exception has occurred, use %tb to see the full traceback.\n",
                        "\u001b[1;31mSystemExit\u001b[0m\u001b[1;31m:\u001b[0m 2\n"
                    ]
                },
                {
                    "output_type": "stream",
                    "name": "stderr",
                    "text": [
                        "C:\\ProgramData\\Anaconda3\\envs\\viact\\lib\\site-packages\\IPython\\core\\interactiveshell.py:3449: UserWarning: To exit: use 'exit', 'quit', or Ctrl-D.\n",
                        "  warn(\"To exit: use 'exit', 'quit', or Ctrl-D.\", stacklevel=1)\n"
                    ]
                }
            ],
            "metadata": {}
        }
    ],
    "metadata": {
        "orig_nbformat": 4,
        "language_info": {
            "name": "python",
            "version": "3.8.11",
            "mimetype": "text/x-python",
            "codemirror_mode": {
                "name": "ipython",
                "version": 3
            },
            "pygments_lexer": "ipython3",
            "nbconvert_exporter": "python",
            "file_extension": ".py"
        },
        "kernelspec": {
            "name": "python3",
            "display_name": "Python 3.8.11 64-bit ('viact': conda)"
        },
        "interpreter": {
            "hash": "a37e745ae762c49776892908c17702cd18bc348a726a08d879e09cbd47db414e"
        }
    },
    "nbformat": 4,
    "nbformat_minor": 2
}